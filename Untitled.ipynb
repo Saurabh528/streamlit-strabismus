{
 "cells": [
  {
   "cell_type": "code",
   "execution_count": 4,
   "id": "1e89c5cc",
   "metadata": {},
   "outputs": [],
   "source": [
    "import pandas as pd"
   ]
  },
  {
   "cell_type": "code",
   "execution_count": 5,
   "id": "cfd1aa47",
   "metadata": {},
   "outputs": [],
   "source": [
    "focus_df = pd.read_csv('dis_cal.csv')\n",
    "focus_values = focus_df.values.tolist()\n",
    "focus_values = [item for sublist in focus_values for item in sublist]\n",
    "focus = int(sum(focus_values)/len(focus_values))\n",
    "focus = round(focus,2)\n"
   ]
  },
  {
   "cell_type": "code",
   "execution_count": 6,
   "id": "3d96d2af",
   "metadata": {},
   "outputs": [
    {
     "data": {
      "text/plain": [
       "563"
      ]
     },
     "execution_count": 6,
     "metadata": {},
     "output_type": "execute_result"
    }
   ],
   "source": [
    "focus"
   ]
  },
  {
   "cell_type": "code",
   "execution_count": null,
   "id": "1d8f0841",
   "metadata": {},
   "outputs": [],
   "source": []
  }
 ],
 "metadata": {
  "kernelspec": {
   "display_name": "Python 3",
   "language": "python",
   "name": "python3"
  },
  "language_info": {
   "codemirror_mode": {
    "name": "ipython",
    "version": 3
   },
   "file_extension": ".py",
   "mimetype": "text/x-python",
   "name": "python",
   "nbconvert_exporter": "python",
   "pygments_lexer": "ipython3",
   "version": "3.8.8"
  }
 },
 "nbformat": 4,
 "nbformat_minor": 5
}
